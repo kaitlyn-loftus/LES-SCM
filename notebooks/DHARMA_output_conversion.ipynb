{
 "cells": [
  {
   "attachments": {},
   "cell_type": "markdown",
   "id": "466e240e-1a04-4190-aa4a-7172a959efd4",
   "metadata": {},
   "source": [
    "# DHARMA Output Processing\n",
    "\n",
    "## load functions and libraries\n",
    "%run functions_DHARMA_conversion.py \n",
    "\n",
    "if 'openpyxl' not in sys.modules:\n",
    "    !pip install --no-deps openpyxl-3.1.5-py2.py3-none-any.whl "
   ]
  },
  {
   "cell_type": "code",
   "execution_count": 1,
   "id": "14b65819-68be-4c6c-a4a2-008597b97ffb",
   "metadata": {},
   "outputs": [
    {
     "name": "stdout",
     "output_type": "stream",
     "text": [
      "Defaulting to user installation because normal site-packages is not writeable\n",
      "\u001b[33mDEPRECATION: Loading egg at /gpfsm/dulocal15/sles15/other/anaconda/GEOSpyD/24.3.0-0/2024-08-29/envs/py3.12/lib/python3.12/site-packages/pygrads-3.0b1-py3.12.egg is deprecated. pip 24.3 will enforce this behaviour change. A possible replacement is to use pip for package installation. Discussion can be found at https://github.com/pypa/pip/issues/12330\u001b[0m\u001b[33m\n",
      "\u001b[0mProcessing ./openpyxl-3.1.5-py2.py3-none-any.whl\n",
      "openpyxl is already installed with the same version as the provided wheel. Use --force-reinstall to force an installation of the wheel.\n"
     ]
    }
   ],
   "source": [
    "## load functions and libraries\n",
    "%run functions_DHARMA_conversion.py \n",
    "\n",
    "if 'openpyxl' not in sys.modules:\n",
    "    !pip install --no-deps openpyxl-3.1.5-py2.py3-none-any.whl "
   ]
  },
  {
   "cell_type": "code",
   "execution_count": 6,
   "id": "734f4f20-4cfd-43de-80b0-7a34392300d6",
   "metadata": {},
   "outputs": [],
   "source": [
    "## define list of LES simulations for DEPHY output conversion\n",
    "## format:\n",
    "## \"original LES output directory\":\"converted file name\"\n",
    "case_list = {'comble_progna_DeMott71_kk_monomodal/':'comble_20200313_progNa',\n",
    "             'comble_progna_DeMott71_kk_monomodal_diagNa/':'comble_20200313_diagNa',\n",
    "             'comble_progna_DeMott71_kk_monomodal_noice/':'comble_20200313_progNa_noice',\n",
    "             'comble_progna_DeMott71_kk_monomodal_noice_diagNa/':'comble_20200313_diagNa_noice'}"
   ]
  },
  {
   "cell_type": "code",
   "execution_count": 10,
   "id": "0b0c12e2-8901-4c3e-a761-a60a3432216f",
   "metadata": {},
   "outputs": [],
   "source": [
    "case_list = {'comble_20200409_case_early_wmerra075_DeMott71_kk_monomodal/':'comble_20200409_progNa',\n",
    "             'comble_20200409_case_early_wmerra075_DeMott71_kk_monomodal_diagNa/':'comble_20200409_diagNa',\n",
    "             'comble_20200409_case_early_wmerra075_DeMott71_kk_monomodal_noice/':'comble_20200409_progNa_noice',\n",
    "             'comble_20200409_case_early_wmerra075_DeMott71_kk_monomodal_noice_diagNa/':'comble_20200409_diagNa_noice'}"
   ]
  },
  {
   "cell_type": "code",
   "execution_count": null,
   "id": "e0614406-fd48-4894-842e-57f436014e83",
   "metadata": {},
   "outputs": [],
   "source": [
    "case_list = {'comble_20200425_case_nosub_DeMott71_kk_monomodal/':'comble_20200425_progNa',\n",
    "             'comble_20200425_case_nosub_DeMott71_kk_monomodal_diagNa/':'comble_20200425_diagNa',\n",
    "             'comble_20200425_case_nosub_DeMott71_kk_monomodal_noice/':'comble_20200425_progNa_noice',\n",
    "             'comble_20200425_case_nosub_DeMott71_kk_monomodal_noice_diagNa/':'comble_20200425_diagNa_noice'}"
   ]
  },
  {
   "cell_type": "code",
   "execution_count": 18,
   "id": "24f7e480-4e23-4517-b74b-e400b89b3b1a",
   "metadata": {},
   "outputs": [],
   "source": [
    "case_list = {'comble_20200507_case_early_DeMott1_nosub_kk_hm_monomodal/':'comble_20200507_progNa',\n",
    "             'comble_20200507_case_early_DeMott1_nosub_kk_hm_monomodal_diagNa/':'comble_20200507_diagNa',\n",
    "             'comble_20200507_case_early_DeMott1_nosub_kk_hm_monomodal_noice/':'comble_20200507_progNa_noice',\n",
    "             'comble_20200507_case_early_DeMott1_nosub_kk_hm_monomodal_noice_diagNa/':'comble_20200507_diagNa_noice'}"
   ]
  },
  {
   "cell_type": "code",
   "execution_count": 2,
   "id": "16626287-d58a-4ede-8da0-69dc99e833c4",
   "metadata": {},
   "outputs": [],
   "source": [
    "case_list = {'comble_20200512_case_somesub_DeMott71_kk_monomodal/':'comble_20200512_progNa',\n",
    "             'comble_20200512_case_somesub_DeMott71_kk_monomodal_diagNa/':'comble_20200512_diagNa',\n",
    "             'comble_20200512_case_somesub_DeMott71_kk_monomodal_noice/':'comble_20200512_progNa_noice',\n",
    "             'comble_20200512_case_somesub_DeMott71_kk_monomodal_noice_diagNa/':'comble_20200512_diagNa_noice'}"
   ]
  },
  {
   "cell_type": "code",
   "execution_count": 27,
   "id": "14b16615-2f4c-4626-9c87-e0621f64461b",
   "metadata": {},
   "outputs": [],
   "source": [
    "case_list = {'activate_20200301_case_wmerra_z0test_monomodal/':'activate_20200301_progNa',\n",
    "             'activate_20200301_case_wmerra_z0test_monomodal_diagNa/':'activate_20200301_diagNa',\n",
    "             'activate_20200301_case_wmerra_z0test_monomodal_noice/':'activate_20200301_noice',\n",
    "             'activate_20200301_case_wmerra_z0test_monomodal_noice_diagNa/':'activate_20200301_diagNa_noice'}"
   ]
  },
  {
   "cell_type": "code",
   "execution_count": 3,
   "id": "1d785354-4058-42fa-ab67-b1cc1c769a37",
   "metadata": {},
   "outputs": [
    {
     "name": "stdout",
     "output_type": "stream",
     "text": [
      "comble_20200512_case_somesub_DeMott71_kk_monomodal/\n",
      "--------------------\n",
      "2020-05-11 08:00:00.0\n",
      "The file /home/tflorian/LES-SCM/output_les/dharma/comble_20200512_progNa.nc has been deleted successfully\n",
      "--------------------\n",
      " \n",
      "comble_20200512_case_somesub_DeMott71_kk_monomodal_diagNa/\n",
      "--------------------\n",
      "2020-05-11 08:00:00.0\n",
      "The file /home/tflorian/LES-SCM/output_les/dharma/comble_20200512_diagNa.nc has been deleted successfully\n",
      "--------------------\n",
      " \n",
      "comble_20200512_case_somesub_DeMott71_kk_monomodal_noice/\n",
      "--------------------\n",
      "2020-05-11 08:00:00.0\n",
      "The file /home/tflorian/LES-SCM/output_les/dharma/comble_20200512_progNa_noice.nc has been deleted successfully\n",
      "--------------------\n",
      " \n",
      "comble_20200512_case_somesub_DeMott71_kk_monomodal_noice_diagNa/\n",
      "--------------------\n",
      "2020-05-11 08:00:00.0\n",
      "The file /home/tflorian/LES-SCM/output_les/dharma/comble_20200512_diagNa_noice.nc has been deleted successfully\n",
      "--------------------\n",
      " \n"
     ]
    }
   ],
   "source": [
    "for x in case_list:\n",
    "    ## \n",
    "    print(x)\n",
    "    DHARMA_convert(x,case_list[x]) #,time_resample=TIME_RESAMPLE)"
   ]
  },
  {
   "cell_type": "code",
   "execution_count": null,
   "id": "b54ae58b-1e08-4069-a599-9f1794607573",
   "metadata": {},
   "outputs": [],
   "source": []
  }
 ],
 "metadata": {
  "kernelspec": {
   "display_name": "Python [conda env:base]",
   "language": "python",
   "name": "conda-base-py"
  },
  "language_info": {
   "codemirror_mode": {
    "name": "ipython",
    "version": 3
   },
   "file_extension": ".py",
   "mimetype": "text/x-python",
   "name": "python",
   "nbconvert_exporter": "python",
   "pygments_lexer": "ipython3",
   "version": "3.12.5"
  }
 },
 "nbformat": 4,
 "nbformat_minor": 5
}
