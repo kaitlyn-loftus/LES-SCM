{
 "cells": [
  {
   "attachments": {},
   "cell_type": "markdown",
   "id": "466e240e-1a04-4190-aa4a-7172a959efd4",
   "metadata": {},
   "source": [
    "# DHARMA Output Processing\n",
    "\n",
    "## load functions and libraries\n",
    "%run functions_DHARMA_conversion.py \n",
    "\n",
    "if 'openpyxl' not in sys.modules:\n",
    "    !pip install --no-deps openpyxl-3.1.5-py2.py3-none-any.whl "
   ]
  },
  {
   "cell_type": "code",
   "execution_count": 21,
   "id": "14b65819-68be-4c6c-a4a2-008597b97ffb",
   "metadata": {},
   "outputs": [],
   "source": [
    "## load functions and libraries\n",
    "%run functions_DHARMA_conversion.py \n",
    "\n",
    "if 'openpyxl' not in sys.modules:\n",
    "    !pip install --no-deps openpyxl-3.1.5-py2.py3-none-any.whl "
   ]
  },
  {
   "cell_type": "code",
   "execution_count": 6,
   "id": "734f4f20-4cfd-43de-80b0-7a34392300d6",
   "metadata": {},
   "outputs": [],
   "source": [
    "## define list of LES simulations for DEPHY output conversion\n",
    "## format:\n",
    "## \"original LES output directory\":\"converted file name\"\n",
    "case_list = {'comble_progna_DeMott71_kk_monomodal/':'comble_20200313_progNa',\n",
    "             'comble_progna_DeMott71_kk_monomodal_diagNa/':'comble_20200313_diagNa',\n",
    "             'comble_progna_DeMott71_kk_monomodal_noice/':'comble_20200313_progNa_noice',\n",
    "             'comble_progna_DeMott71_kk_monomodal_noice_diagNa/':'comble_20200313_diagNa_noice'}"
   ]
  },
  {
   "cell_type": "code",
   "execution_count": 10,
   "id": "0b0c12e2-8901-4c3e-a761-a60a3432216f",
   "metadata": {},
   "outputs": [],
   "source": [
    "case_list = {'comble_20200409_case_early_wmerra075_DeMott71_kk_monomodal/':'comble_20200409_progNa',\n",
    "             'comble_20200409_case_early_wmerra075_DeMott71_kk_monomodal_diagNa/':'comble_20200409_diagNa',\n",
    "             'comble_20200409_case_early_wmerra075_DeMott71_kk_monomodal_noice/':'comble_20200409_progNa_noice',\n",
    "             'comble_20200409_case_early_wmerra075_DeMott71_kk_monomodal_noice_diagNa/':'comble_20200409_diagNa_noice'}"
   ]
  },
  {
   "cell_type": "code",
   "execution_count": null,
   "id": "e0614406-fd48-4894-842e-57f436014e83",
   "metadata": {},
   "outputs": [],
   "source": [
    "case_list = {'comble_20200425_case_nosub_DeMott71_kk_monomodal/':'comble_20200425_progNa',\n",
    "             'comble_20200425_case_nosub_DeMott71_kk_monomodal_diagNa/':'comble_20200425_diagNa',\n",
    "             'comble_20200425_case_nosub_DeMott71_kk_monomodal_noice/':'comble_20200425_progNa_noice',\n",
    "             'comble_20200425_case_nosub_DeMott71_kk_monomodal_noice_diagNa/':'comble_20200425_diagNa_noice'}"
   ]
  },
  {
   "cell_type": "code",
   "execution_count": 18,
   "id": "24f7e480-4e23-4517-b74b-e400b89b3b1a",
   "metadata": {},
   "outputs": [],
   "source": [
    "case_list = {'comble_20200507_case_early_DeMott1_nosub_kk_hm_monomodal/':'comble_20200507_progNa',\n",
    "             'comble_20200507_case_early_DeMott1_nosub_kk_hm_monomodal_diagNa/':'comble_20200507_diagNa',\n",
    "             'comble_20200507_case_early_DeMott1_nosub_kk_hm_monomodal_noice/':'comble_20200507_progNa_noice',\n",
    "             'comble_20200507_case_early_DeMott1_nosub_kk_hm_monomodal_noice_diagNa/':'comble_20200507_diagNa_noice'}"
   ]
  },
  {
   "cell_type": "code",
   "execution_count": 2,
   "id": "16626287-d58a-4ede-8da0-69dc99e833c4",
   "metadata": {},
   "outputs": [],
   "source": [
    "case_list = {'comble_20200512_case_somesub_DeMott71_kk_monomodal/':'comble_20200512_progNa',\n",
    "             'comble_20200512_case_somesub_DeMott71_kk_monomodal_diagNa/':'comble_20200512_diagNa',\n",
    "             'comble_20200512_case_somesub_DeMott71_kk_monomodal_noice/':'comble_20200512_progNa_noice',\n",
    "             'comble_20200512_case_somesub_DeMott71_kk_monomodal_noice_diagNa/':'comble_20200512_diagNa_noice'}"
   ]
  },
  {
   "cell_type": "code",
   "execution_count": 6,
   "id": "14b16615-2f4c-4626-9c87-e0621f64461b",
   "metadata": {},
   "outputs": [],
   "source": [
    "case_list = {'activate_20200301_case_wmerra_z0test_monomodal/':'activate_20200301_progNa',\n",
    "             'activate_20200301_case_wmerra_z0test_monomodal_diagNa/':'activate_20200301_diagNa',\n",
    "             'activate_20200301_case_wmerra_z0test_monomodal_noice/':'activate_20200301_noice',\n",
    "             'activate_20200301_case_wmerra_z0test_monomodal_noice_diagNa/':'activate_20200301_diagNa_noice'}"
   ]
  },
  {
   "cell_type": "code",
   "execution_count": 2,
   "id": "9c9200ee-3bcc-449b-91c8-a5c62dc964b4",
   "metadata": {},
   "outputs": [],
   "source": [
    "case_list = {'activate_20210203_case_early_Wmerra_z0test_monomodal_noice/':'activate_20210203_noice',\n",
    "             'activate_20210203_case_early_Wmerra_z0test_monomodal/':'activate_20210203_progNa',\n",
    "             'activate_20210203_case_early_Wmerra_z0test_monomodal_diagNa/':'activate_20210203_diagNa',\n",
    "             'activate_20210203_case_early_Wmerra_z0test_monomodal_noice_diagNa/':'activate_20210203_diagNa_noice'}"
   ]
  },
  {
   "cell_type": "code",
   "execution_count": 5,
   "id": "bbaf5d39-0d97-4f03-9d48-35997686bf86",
   "metadata": {},
   "outputs": [],
   "source": [
    "case_list = {'activate_20220111_case_w125_DeMott71_kk_z0test_monomodal_noice/':'activate_20220111_noice',\n",
    "             'activate_20220111_case_w125_DeMott71_kk_z0test_monomodal/':'activate_20220111_progNa',\n",
    "             'activate_20220111_case_w125_DeMott71_kk_z0test_monomodal_diagNa/':'activate_20220111_diagNa',\n",
    "             'activate_20220111_case_w125_DeMott71_kk_z0test_monomodal_noice_diagNa/':'activate_20220111_diagNa_noice'}"
   ]
  },
  {
   "cell_type": "code",
   "execution_count": 7,
   "id": "a1742d11-0bdb-460e-9926-fc8b3d908e40",
   "metadata": {},
   "outputs": [],
   "source": [
    "case_list = {'activate_20220118_case_early_DeMott71_KK_z0test_monomodal_noice/':'activate_20220118_noice',\n",
    "             'activate_20220118_case_early_DeMott71_KK_z0test_monomodal/':'activate_20220118_progNa',\n",
    "             'activate_20220118_case_early_DeMott71_KK_z0test_monomodal_diagNa/':'activate_20220118_diagNa',\n",
    "             'activate_20220118_case_early_DeMott71_KK_z0test_monomodal_noice_diagNa/':'activate_20220118_diagNa_noice'}"
   ]
  },
  {
   "cell_type": "code",
   "execution_count": 9,
   "id": "8b9539d3-5acf-4a38-a978-cc1f804accea",
   "metadata": {},
   "outputs": [],
   "source": [
    "case_list = {'activate_20220313_case_w075_early_DeMott71_kk_z0test_monomodal_noice/':'activate_20220313_noice',\n",
    "             'activate_20220313_case_w075_early_DeMott71_kk_z0test_monomodal/':'activate_20220313_progNa',\n",
    "             'activate_20220313_case_w075_early_DeMott71_kk_z0test_monomodal_diagNa/':'activate_20220313_diagNa',\n",
    "             'activate_20220313_case_w075_early_DeMott71_kk_z0test_monomodal_noice_diagNa/':'activate_20220313_diagNa_noice'}"
   ]
  },
  {
   "cell_type": "code",
   "execution_count": 13,
   "id": "3abf905a-5d6e-4031-becb-4d3b5b847e1c",
   "metadata": {},
   "outputs": [],
   "source": [
    "case_list = {'activate_20220329_case_Wmerra_DeMott71_KK_z0test_monomodal2_noice/':'activate_20220329_noice',\n",
    "             'activate_20220329_case_Wmerra_DeMott71_KK_z0test_monomodal2/':'activate_20220329_progNa',\n",
    "             'activate_20220329_case_Wmerra_DeMott71_KK_z0test_monomodal2_diagNa/':'activate_20220329_diagNa',\n",
    "             'activate_20220329_case_Wmerra_DeMott71_KK_z0test_monomodal2_noice_diagNa/':'activate_20220329_diagNa_noice'}"
   ]
  },
  {
   "cell_type": "code",
   "execution_count": 22,
   "id": "1d785354-4058-42fa-ab67-b1cc1c769a37",
   "metadata": {
    "collapsed": true,
    "jupyter": {
     "outputs_hidden": true
    }
   },
   "outputs": [
    {
     "name": "stdout",
     "output_type": "stream",
     "text": [
      "activate_20220329_case_Wmerra_DeMott71_KK_z0test_monomodal2_noice/\n",
      "--------------------\n",
      "2022-03-29 12:00:00.0\n",
      "['0-36h']\n",
      "/home/tflorian/nobackup/dharma_run/cao_2018/activate_20220329_case_Wmerra_DeMott71_KK_z0test_monomodal2_noice//0-36h/dharma.cdf\n",
      "do_ice =  False\n",
      "do_progNa =  True\n",
      "num_progNa =  True\n",
      "/home/tflorian/nobackup/dharma_run/cao_2018/activate_20220329_case_Wmerra_DeMott71_KK_z0test_monomodal2_noice//0-36h/dharma.soundings.cdf\n",
      "/home/tflorian/nobackup/dharma_run/cao_2018/activate_20220329_case_Wmerra_DeMott71_KK_z0test_monomodal2_noice//0-36h/dharma.scalars.cdf\n",
      "<class 'netCDF4._netCDF4.Dataset'>\n",
      "root group (NETCDF3_CLASSIC data model, file format NETCDF3):\n",
      "    title: DHARMA LES results\n",
      "    reference: https://nasa-giss.github.io/LES-SCM/\n",
      "    authors: Ann Fridlind (ann.fridlind@nasa.gov) and Florian Tornow (florian.tornow@nasa.gov)\n",
      "    source: /home/tflorian/nobackup/dharma_run/cao_2018/activate_20220329_case_Wmerra_DeMott71_KK_z0test_monomodal2_noice//0-36h/dharma.scalars.cdf\n",
      "    version: 2025-07-25 14:19:41\n",
      "    format_version: DEPHY SCM format version 1.6\n",
      "    script: convert_DHARMA_LES_output_to_dephy_format.ipynb\n",
      "    startDate: 2022-03-29 12:00:00.0\n",
      "    force_geo: 1\n",
      "    surfaceType: ocean (after spin-up)\n",
      "    surfaceForcing: ts (after spin-up)\n",
      "    lat: 36.0 deg N\n",
      "    dx: 300.0 m\n",
      "    dy: 300.0 m\n",
      "    dz: see zf variable\n",
      "    nx: 72\n",
      "    ny: 72\n",
      "    nz: 200\n",
      "    dimensions(sizes): zf(200), ze(200), time(217)\n",
      "    variables(dimensions): float64 zf(zf), float64 ze(ze), float64 time(time), float64 ps(time), float64 ts(time), float64 ustar(time), float64 z0(time), float64 z0h(time), float64 z0q(time), float64 hfss(time), float64 hfls(time), float64 ol(time), float64 lwpc(time), float64 lwpr(time), float64 iwp(time), float64 clt(time), float64 od(time), float64 odlc(time), float64 nqc(time), float64 pr(time), float64 pri(time), float64 rlut(time), float64 rlds(time), float64 rlus(time), float64 ssaf(time), float64 pa(time, zf), float64 ua(time, zf), float64 va(time, zf), float64 rhoa(time, zf), float64 ta(time, zf), float64 qv(time, zf), float64 hur(time, zf), float64 huri(time, zf), float64 theta(time, zf), float64 tke_res(time, zf), float64 tke_sgs(time, zf), float64 qlc(time, zf), float64 qlr(time, zf), float64 qic(time, zf), float64 qis(time, zf), float64 qig(time, zf), float64 nlc(time, zf), float64 nlr(time, zf), float64 nic(time, zf), float64 nis(time, zf), float64 nig(time, zf), float64 na1(time, zf), float64 na2(time, zf), float64 na3(time, zf), float64 nlcic(time, zf), float64 niic(time, zf), float64 eps(time, zf), float64 uw(time, zf), float64 vw(time, zf), float64 w2(time, zf), float64 wth(time, zf), float64 vf_thli(time, zf), float64 wqv(time, zf), float64 vf_qt(time, zf), float64 flc(time, zf), float64 prf(time, zf), float64 prfi(time, zf), float64 rld(time, zf), float64 rlu(time, zf), float64 dth_rad(time, zf), float64 dth_micro(time, zf), float64 dth_turb(time, zf), float64 dq_micro(time, zf), float64 dq_turb(time, zf), float64 dna_micro_warm(time, zf), float64 dna_micro_cold(time, zf), float64 dna_turb(time, zf), float64 dni_het(time, zf), float64 dni_sip(time, zf), float64 dni_hom(time, zf)\n",
      "    groups: \n",
      "--------------------\n",
      " \n",
      "activate_20220329_case_Wmerra_DeMott71_KK_z0test_monomodal2/\n",
      "--------------------\n",
      "2022-03-29 12:00:00.0\n",
      "['0-36h']\n",
      "/home/tflorian/nobackup/dharma_run/cao_2018/activate_20220329_case_Wmerra_DeMott71_KK_z0test_monomodal2//0-36h/dharma.cdf\n",
      "do_ice =  True\n",
      "do_progNa =  True\n",
      "num_progNa =  True\n",
      "/home/tflorian/nobackup/dharma_run/cao_2018/activate_20220329_case_Wmerra_DeMott71_KK_z0test_monomodal2//0-36h/dharma.soundings.cdf\n",
      "/home/tflorian/nobackup/dharma_run/cao_2018/activate_20220329_case_Wmerra_DeMott71_KK_z0test_monomodal2_noice_diagNa//0-36h/dharma.scalars.cdf\n",
      "<class 'netCDF4._netCDF4.Dataset'>\n",
      "root group (NETCDF3_CLASSIC data model, file format NETCDF3):\n",
      "    title: DHARMA LES results\n",
      "    reference: https://nasa-giss.github.io/LES-SCM/\n",
      "    authors: Ann Fridlind (ann.fridlind@nasa.gov) and Florian Tornow (florian.tornow@nasa.gov)\n",
      "    source: /home/tflorian/nobackup/dharma_run/cao_2018/activate_20220329_case_Wmerra_DeMott71_KK_z0test_monomodal2_noice_diagNa//0-36h/dharma.scalars.cdf\n",
      "    version: 2025-07-25 14:22:45\n",
      "    format_version: DEPHY SCM format version 1.6\n",
      "    script: convert_DHARMA_LES_output_to_dephy_format.ipynb\n",
      "    startDate: 2022-03-29 12:00:00.0\n",
      "    force_geo: 1\n",
      "    surfaceType: ocean (after spin-up)\n",
      "    surfaceForcing: ts (after spin-up)\n",
      "    lat: 36.0 deg N\n",
      "    dx: 300.0 m\n",
      "    dy: 300.0 m\n",
      "    dz: see zf variable\n",
      "    nx: 72\n",
      "    ny: 72\n",
      "    nz: 200\n",
      "    dimensions(sizes): zf(200), ze(200), time(217)\n",
      "    variables(dimensions): float64 zf(zf), float64 ze(ze), float64 time(time), float64 ps(time), float64 ts(time), float64 ustar(time), float64 z0(time), float64 z0h(time), float64 z0q(time), float64 hfss(time), float64 hfls(time), float64 ol(time), float64 lwpc(time), float64 lwpr(time), float64 iwp(time), float64 clt(time), float64 od(time), float64 odlc(time), float64 nqc(time), float64 pr(time), float64 pri(time), float64 rlut(time), float64 rlds(time), float64 rlus(time), float64 ssaf(time), float64 pa(time, zf), float64 ua(time, zf), float64 va(time, zf), float64 rhoa(time, zf), float64 ta(time, zf), float64 qv(time, zf), float64 hur(time, zf), float64 huri(time, zf), float64 theta(time, zf), float64 tke_res(time, zf), float64 tke_sgs(time, zf), float64 qlc(time, zf), float64 qlr(time, zf), float64 qic(time, zf), float64 qis(time, zf), float64 qig(time, zf), float64 nlc(time, zf), float64 nlr(time, zf), float64 nic(time, zf), float64 nis(time, zf), float64 nig(time, zf), float64 na1(time, zf), float64 na2(time, zf), float64 na3(time, zf), float64 nlcic(time, zf), float64 niic(time, zf), float64 eps(time, zf), float64 uw(time, zf), float64 vw(time, zf), float64 w2(time, zf), float64 wth(time, zf), float64 vf_thli(time, zf), float64 wqv(time, zf), float64 vf_qt(time, zf), float64 flc(time, zf), float64 prf(time, zf), float64 prfi(time, zf), float64 rld(time, zf), float64 rlu(time, zf), float64 dth_rad(time, zf), float64 dth_micro(time, zf), float64 dth_turb(time, zf), float64 dq_micro(time, zf), float64 dq_turb(time, zf), float64 dna_micro_warm(time, zf), float64 dna_micro_cold(time, zf), float64 dna_turb(time, zf), float64 dni_het(time, zf), float64 dni_sip(time, zf), float64 dni_hom(time, zf)\n",
      "    groups: \n",
      "--------------------\n",
      " \n"
     ]
    }
   ],
   "source": [
    "for x in case_list:\n",
    "    ## \n",
    "    print(x)\n",
    "    DHARMA_convert(x,case_list[x]) #,verbose=True) #,time_resample=TIME_RESAMPLE)"
   ]
  },
  {
   "cell_type": "code",
   "execution_count": null,
   "id": "b54ae58b-1e08-4069-a599-9f1794607573",
   "metadata": {},
   "outputs": [],
   "source": []
  }
 ],
 "metadata": {
  "kernelspec": {
   "display_name": "Python [conda env:base]",
   "language": "python",
   "name": "conda-base-py"
  },
  "language_info": {
   "codemirror_mode": {
    "name": "ipython",
    "version": 3
   },
   "file_extension": ".py",
   "mimetype": "text/x-python",
   "name": "python",
   "nbconvert_exporter": "python",
   "pygments_lexer": "ipython3",
   "version": "3.12.5"
  }
 },
 "nbformat": 4,
 "nbformat_minor": 5
}
