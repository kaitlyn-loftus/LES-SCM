{
 "cells": [
  {
   "cell_type": "markdown",
   "id": "0930d2df-d8ff-48d7-8acd-eaef9b22579e",
   "metadata": {},
   "source": [
    "# ModelE Output Processing"
   ]
  },
  {
   "cell_type": "code",
   "execution_count": 1,
   "id": "26803559-f86d-4eac-b400-ef24da919954",
   "metadata": {},
   "outputs": [
    {
     "name": "stdout",
     "output_type": "stream",
     "text": [
      "Defaulting to user installation because normal site-packages is not writeable\n",
      "\u001b[33mDEPRECATION: Loading egg at /gpfsm/dulocal15/sles15/other/anaconda/GEOSpyD/24.3.0-0/2024-08-29/envs/py3.12/lib/python3.12/site-packages/pygrads-3.0b1-py3.12.egg is deprecated. pip 24.3 will enforce this behaviour change. A possible replacement is to use pip for package installation. Discussion can be found at https://github.com/pypa/pip/issues/12330\u001b[0m\u001b[33m\n",
      "\u001b[0mProcessing ./openpyxl-3.1.5-py2.py3-none-any.whl\n",
      "openpyxl is already installed with the same version as the provided wheel. Use --force-reinstall to force an installation of the wheel.\n"
     ]
    }
   ],
   "source": [
    "## load functions and libraries\n",
    "%run functions_ModelE_conversion.py \n",
    "\n",
    "if 'openpyxl' not in sys.modules:\n",
    "    !pip install --no-deps openpyxl-3.1.5-py2.py3-none-any.whl "
   ]
  },
  {
   "cell_type": "code",
   "execution_count": 43,
   "id": "734f4f20-4cfd-43de-80b0-7a34392300d6",
   "metadata": {},
   "outputs": [],
   "source": [
    "## define list of LES simulations for DEPHY output conversion\n",
    "## format:\n",
    "## \"original LES output directory\":\"converted file name\"\n",
    "case_list = {'SCM_COMBLE-MIP_diagNa':'comble_20200313_diagNa',\n",
    "             'SCM_COMBLE-MIP_diagNa_noice':'comble_20200313_diagNa_noice'}"
   ]
  },
  {
   "cell_type": "code",
   "execution_count": 41,
   "id": "f1d983b0-de2d-45f6-9844-33501b302e4b",
   "metadata": {},
   "outputs": [],
   "source": [
    "case_list = {'SCM_COMBLE-20200409_diagNa':'comble_20200409_diagNa',\n",
    "             'SCM_COMBLE-20200409_noice':'comble_20200409_diagNa_noice' }"
   ]
  },
  {
   "cell_type": "code",
   "execution_count": 39,
   "id": "fb42caab-e840-4155-801c-46f749cab937",
   "metadata": {},
   "outputs": [],
   "source": [
    "case_list = {'SCM_COMBLE-20200425_diagNa':'comble_20200425_diagNa',\n",
    "             'SCM_COMBLE-20200425_noice':'comble_20200425_diagNa_noice'}"
   ]
  },
  {
   "cell_type": "code",
   "execution_count": 37,
   "id": "d08ba8a9-5f2c-4f2a-a9e9-5625ec018a29",
   "metadata": {},
   "outputs": [],
   "source": [
    "case_list = {'SCM_COMBLE-20200512_diagNa':'comble_20200512_diagNa',\n",
    "             'SCM_COMBLE-20200512_noice':'comble_20200512_diagNa_noice'}"
   ]
  },
  {
   "cell_type": "code",
   "execution_count": 35,
   "id": "5686e780-d72a-4ed5-8d77-6a9197722133",
   "metadata": {},
   "outputs": [],
   "source": [
    "case_list = {'SCM_COMBLE-20200507_diagNa':'comble_20200507_diagNa',\n",
    "             'SCM_COMBLE-20200507_noice':'comble_20200507_diagNa_noice'}"
   ]
  },
  {
   "cell_type": "code",
   "execution_count": 28,
   "id": "9044e996-200f-4bec-82a5-f16f39c195d2",
   "metadata": {},
   "outputs": [],
   "source": [
    "case_list = {'SCM_CAO_ACTIVATE_20200301_diagNa':'activate_20200301_diagNa',\n",
    "             'SCM_CAO_ACTIVATE_20200301_noice':'activate_20200301_diagNa_noice'}"
   ]
  },
  {
   "cell_type": "code",
   "execution_count": 45,
   "id": "7ca2a16d-2256-4a29-88e7-f038d660bd53",
   "metadata": {},
   "outputs": [],
   "source": [
    "case_list = {'SCM_CAO_ACTIVATE_20210203_diagNa':'activate_20210203_diagNa',\n",
    "             'SCM_CAO_ACTIVATE_20210203_noice':'activate_20210203_diagNa_noice'}"
   ]
  },
  {
   "cell_type": "code",
   "execution_count": 2,
   "id": "98dd71eb-a4df-4eff-a53d-8ea2b61dbc7f",
   "metadata": {},
   "outputs": [],
   "source": [
    "case_list = {'SCM_CAO_ACTIVATE_20220111_diagNa':'activate_20220111_diagNa',\n",
    "             'SCM_CAO_ACTIVATE_20220111_noice':'activate_20220111_diagNa_noice'}"
   ]
  },
  {
   "cell_type": "code",
   "execution_count": 4,
   "id": "cb8e7623-52ed-4a4a-9135-a902bf464296",
   "metadata": {},
   "outputs": [],
   "source": [
    "case_list = {'SCM_CAO_ACTIVATE_20220118_diagNa':'activate_20220118_diagNa',\n",
    "             'SCM_CAO_ACTIVATE_20220118_noice':'activate_20220118_diagNa_noice'}"
   ]
  },
  {
   "cell_type": "code",
   "execution_count": 6,
   "id": "3155ed35-67bc-4d9f-8ffd-b3f97c6a8eca",
   "metadata": {},
   "outputs": [],
   "source": [
    "case_list = {'SCM_CAO_ACTIVATE_20220313_diagNa':'activate_20220313_diagNa',\n",
    "             'SCM_CAO_ACTIVATE_20220313_noice':'activate_20220313_diagNa_noice'}"
   ]
  },
  {
   "cell_type": "code",
   "execution_count": 8,
   "id": "c0f951ea-6b86-4d33-aa25-47ece92597a3",
   "metadata": {},
   "outputs": [],
   "source": [
    "case_list = {'SCM_CAO_ACTIVATE_20220329_diagNa':'activate_20220329_diagNa',\n",
    "             'SCM_CAO_ACTIVATE_20220329_noice':'activate_20220329_diagNa_noice'}"
   ]
  },
  {
   "cell_type": "code",
   "execution_count": 9,
   "id": "966edab0-36ab-488a-88a5-0bde6a2b56ed",
   "metadata": {},
   "outputs": [
    {
     "name": "stdout",
     "output_type": "stream",
     "text": [
      "SCM_CAO_ACTIVATE_20220329_diagNa\n",
      "--------------------\n",
      "/discover/nobackup/tflorian/modelE_runs/SCM_CAO_ACTIVATE_20220329_diagNa/allsteps.allmergeSCM_CAO_ACTIVATE_20220329_diagNa.nc\n",
      "do_ice =  True\n"
     ]
    },
    {
     "name": "stderr",
     "output_type": "stream",
     "text": [
      "/gpfsm/dnb33/tflorian/LES-SCM/notebooks/functions_ModelE_conversion.py:101: RuntimeWarning: invalid value encountered in divide\n",
      "  new_var = (((modele_data['nclic'].data * modele_data['qcl'].data) + (nd_conv_fix * modele_data['QCLmc'].data)) * rhodztile).sum(axis=1) / ((modele_data['qcl'].data + modele_data['QCLmc'].data) * rhodztile).sum(axis=1)\n"
     ]
    },
    {
     "name": "stdout",
     "output_type": "stream",
     "text": [
      "The file /discover/nobackup/tflorian/LES-SCM/output_scm/modele/activate_20220329_diagNa.nc has been deleted successfully\n",
      "<class 'netCDF4._netCDF4.Dataset'>\n",
      "root group (NETCDF3_CLASSIC data model, file format NETCDF3):\n",
      "    title: ModelE3 SCM results for case activate_20220329_diagNa (prognostic stratiform Nd from fixed monomodal aerosol, mixed-phase)\n",
      "    reference: https://github.com/NASA-GISS/LES-SCM\n",
      "    authors: Ann Fridlind (ann.fridlind@nasa.gov), Florian Tornow (florian.tornow@nasa.gov), Andrew Ackerman (andrew.ackerman@nasa.gov)\n",
      "    source: /discover/nobackup/tflorian/modelE_runs/SCM_CAO_ACTIVATE_20220329_diagNa/allsteps.allmergeSCM_CAO_ACTIVATE_20220329_diagNa.nc\n",
      "    version: 2025-07-25 14:04:33\n",
      "    format_version: DEPHY SCM format version 1.6\n",
      "    script: ModelE_output_conversion.ipynb\n",
      "    startDate: 2022-03-29T12:00:00Z\n",
      "    force_geo: 1\n",
      "    surfaceType: ocean\n",
      "    surfaceForcing: ts\n",
      "    lat: 36.0 deg N\n",
      "    dp: see pressure variable\n",
      "    np: 110\n",
      "    dimensions(sizes): time(72), layer(110)\n",
      "    variables(dimensions): float64 time(time), float64 layer(layer), float64 pa(time, layer), float64 pe(time, layer), float64 ps(time), float64 ts(time), float64 ustar(time), float64 z0(time), float64 z0h(time), float64 z0q(time), float64 hfss(time), float64 hfls(time), float64 ol(time), float64 pblh(time), float64 zi(time), float64 lwpc(time), float64 lwpr(time), float64 iwp(time), float64 cf(time), float64 clt(time), float64 cflc(time), float64 cfc(time), float64 od(time), float64 odlc(time), float64 nqc(time), float64 pr(time), float64 pri(time), float64 rlut(time), float64 rlds(time), float64 rlus(time), float64 ssaf(time), float64 zf(time, layer), float64 ua(time, layer), float64 va(time, layer), float64 rhoa(time, layer), float64 ta(time, layer), float64 qv(time, layer), float64 hur(time, layer), float64 huri(time, layer), float64 theta(time, layer), float64 qlc(time, layer), float64 qlr(time, layer), float64 qi(time, layer), float64 fh(time, layer), float64 flc(time, layer), float64 fc(time, layer), float64 prf(time, layer), float64 prfi(time, layer), float64 tke(time, layer), float64 eps(time, layer), float64 uw(time, layer), float64 vw(time, layer), float64 w2(time, layer), float64 wth(time, layer), float64 vf_thli(time, layer), float64 wqv(time, layer), float64 vf_qt(time, layer), float64 cmfu(time, layer), float64 cmfd(time, layer), float64 rld(time, layer), float64 rlu(time, layer), float64 dth_rad(time, layer), float64 dth_micro(time, layer), float64 dth_turb(time, layer), float64 dq_micro(time, layer), float64 dq_turb(time, layer), float64 na1(time, layer), float64 na2(time, layer), float64 na3(time, layer), float64 dna_micro_warm(time, layer), float64 dna_micro_cold(time, layer), float64 dna_turb(time, layer), float64 dni_het(time, layer), float64 dni_sip(time, layer), float64 dni_hom(time, layer), float64 qlcs(time, layer), float64 qlrs(time, layer), float64 qics(time, layer), float64 qips(time, layer), float64 qlcc(time, layer), float64 qlrc(time, layer), float64 qicc(time, layer), float64 qipc(time, layer), float64 nlcic(time, layer), float64 nlcs(time, layer), float64 nlrs(time, layer), float64 nics(time, layer), float64 nips(time, layer), float64 niic(time, layer), float64 relcc(time, layer), float64 relrc(time, layer), float64 reicc(time, layer), float64 reipc(time, layer), float64 flcs(time, layer), float64 flrs(time, layer), float64 fics(time, layer), float64 fips(time, layer), float64 flcc(time, layer), float64 flrc(time, layer), float64 ficc(time, layer), float64 fipc(time, layer), float64 vmlcs(time, layer), float64 vmlrs(time, layer), float64 vmics(time, layer), float64 vmips(time, layer), float64 vmlcc(time, layer), float64 vmlrc(time, layer), float64 vmicc(time, layer), float64 vmipc(time, layer)\n",
      "    groups: \n",
      "SCM_CAO_ACTIVATE_20220329_noice\n",
      "--------------------\n",
      "/discover/nobackup/tflorian/modelE_runs/SCM_CAO_ACTIVATE_20220329_noice/allsteps.allmergeSCM_CAO_ACTIVATE_20220329_noice.nc\n",
      "do_ice =  False\n"
     ]
    },
    {
     "name": "stderr",
     "output_type": "stream",
     "text": [
      "/gpfsm/dnb33/tflorian/LES-SCM/notebooks/functions_ModelE_conversion.py:101: RuntimeWarning: invalid value encountered in divide\n",
      "  new_var = (((modele_data['nclic'].data * modele_data['qcl'].data) + (nd_conv_fix * modele_data['QCLmc'].data)) * rhodztile).sum(axis=1) / ((modele_data['qcl'].data + modele_data['QCLmc'].data) * rhodztile).sum(axis=1)\n"
     ]
    },
    {
     "name": "stdout",
     "output_type": "stream",
     "text": [
      "The file /discover/nobackup/tflorian/LES-SCM/output_scm/modele/activate_20220329_diagNa_noice.nc has been deleted successfully\n",
      "<class 'netCDF4._netCDF4.Dataset'>\n",
      "root group (NETCDF3_CLASSIC data model, file format NETCDF3):\n",
      "    title: ModelE3 SCM results for case activate_20220329_diagNa_noice (prognostic stratiform Nd from fixed monomodal aerosol, liquid-only)\n",
      "    reference: https://github.com/NASA-GISS/LES-SCM\n",
      "    authors: Ann Fridlind (ann.fridlind@nasa.gov), Florian Tornow (florian.tornow@nasa.gov), Andrew Ackerman (andrew.ackerman@nasa.gov)\n",
      "    source: /discover/nobackup/tflorian/modelE_runs/SCM_CAO_ACTIVATE_20220329_noice/allsteps.allmergeSCM_CAO_ACTIVATE_20220329_noice.nc\n",
      "    version: 2025-07-25 14:04:34\n",
      "    format_version: DEPHY SCM format version 1.6\n",
      "    script: ModelE_output_conversion.ipynb\n",
      "    startDate: 2022-03-29T12:00:00Z\n",
      "    force_geo: 1\n",
      "    surfaceType: ocean\n",
      "    surfaceForcing: ts\n",
      "    lat: 36.0 deg N\n",
      "    dp: see pressure variable\n",
      "    np: 110\n",
      "    dimensions(sizes): time(72), layer(110)\n",
      "    variables(dimensions): float64 time(time), float64 layer(layer), float64 pa(time, layer), float64 pe(time, layer), float64 ps(time), float64 ts(time), float64 ustar(time), float64 z0(time), float64 z0h(time), float64 z0q(time), float64 hfss(time), float64 hfls(time), float64 ol(time), float64 pblh(time), float64 zi(time), float64 lwpc(time), float64 lwpr(time), float64 iwp(time), float64 cf(time), float64 clt(time), float64 cflc(time), float64 cfc(time), float64 od(time), float64 odlc(time), float64 nqc(time), float64 pr(time), float64 pri(time), float64 rlut(time), float64 rlds(time), float64 rlus(time), float64 ssaf(time), float64 zf(time, layer), float64 ua(time, layer), float64 va(time, layer), float64 rhoa(time, layer), float64 ta(time, layer), float64 qv(time, layer), float64 hur(time, layer), float64 huri(time, layer), float64 theta(time, layer), float64 qlc(time, layer), float64 qlr(time, layer), float64 qi(time, layer), float64 fh(time, layer), float64 flc(time, layer), float64 fc(time, layer), float64 prf(time, layer), float64 prfi(time, layer), float64 tke(time, layer), float64 eps(time, layer), float64 uw(time, layer), float64 vw(time, layer), float64 w2(time, layer), float64 wth(time, layer), float64 vf_thli(time, layer), float64 wqv(time, layer), float64 vf_qt(time, layer), float64 cmfu(time, layer), float64 cmfd(time, layer), float64 rld(time, layer), float64 rlu(time, layer), float64 dth_rad(time, layer), float64 dth_micro(time, layer), float64 dth_turb(time, layer), float64 dq_micro(time, layer), float64 dq_turb(time, layer), float64 na1(time, layer), float64 na2(time, layer), float64 na3(time, layer), float64 dna_micro_warm(time, layer), float64 dna_micro_cold(time, layer), float64 dna_turb(time, layer), float64 dni_het(time, layer), float64 dni_sip(time, layer), float64 dni_hom(time, layer), float64 qlcs(time, layer), float64 qlrs(time, layer), float64 qics(time, layer), float64 qips(time, layer), float64 qlcc(time, layer), float64 qlrc(time, layer), float64 qicc(time, layer), float64 qipc(time, layer), float64 nlcic(time, layer), float64 nlcs(time, layer), float64 nlrs(time, layer), float64 nics(time, layer), float64 nips(time, layer), float64 niic(time, layer), float64 relcc(time, layer), float64 relrc(time, layer), float64 reicc(time, layer), float64 reipc(time, layer), float64 flcs(time, layer), float64 flrs(time, layer), float64 fics(time, layer), float64 fips(time, layer), float64 flcc(time, layer), float64 flrc(time, layer), float64 ficc(time, layer), float64 fipc(time, layer), float64 vmlcs(time, layer), float64 vmlrs(time, layer), float64 vmics(time, layer), float64 vmips(time, layer), float64 vmlcc(time, layer), float64 vmlrc(time, layer), float64 vmicc(time, layer), float64 vmipc(time, layer)\n",
      "    groups: \n"
     ]
    }
   ],
   "source": [
    "for x in case_list:\n",
    "    ## \n",
    "    print(x)\n",
    "    ModelE_convert(x,case_list[x])"
   ]
  },
  {
   "cell_type": "code",
   "execution_count": null,
   "id": "9f39c4bb-f5a2-43a2-a46c-41dcf1b09f33",
   "metadata": {},
   "outputs": [],
   "source": []
  }
 ],
 "metadata": {
  "kernelspec": {
   "display_name": "Python [conda env:base]",
   "language": "python",
   "name": "conda-base-py"
  },
  "language_info": {
   "codemirror_mode": {
    "name": "ipython",
    "version": 3
   },
   "file_extension": ".py",
   "mimetype": "text/x-python",
   "name": "python",
   "nbconvert_exporter": "python",
   "pygments_lexer": "ipython3",
   "version": "3.12.5"
  }
 },
 "nbformat": 4,
 "nbformat_minor": 5
}
